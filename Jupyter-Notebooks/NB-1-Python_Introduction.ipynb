{
 "cells": [
  {
   "cell_type": "markdown",
   "metadata": {},
   "source": [
    "# Python Introduction\n",
    "\n",
    "If you are new to Python, before you start 2.3 (*pandas: Python Data Analysis Library*), it will be useful to go thorugh this notebook to understand basic concepts about Python programming language. For this chapter we will mainly use Pandas and some plotting libraries. Even though these libraries will be explained in greater detail in the book and in the other notebooks, this notebook will try to cover some basic definitions that will be used in the chapter. \n",
    "\n",
    "To run a cell (markdown or code) just press <kbd>Shift</kbd> + <kbd>Return</kbd> or, the run botton above. "
   ]
  },
  {
   "cell_type": "markdown",
   "metadata": {},
   "source": [
    "## Finding help in Jupyter Notebook\n",
    "\n",
    "Even though you are experienced using Python, sometimes you need a reminder on what a function can do or what type of parameters you can pass to the funciton. For these, with the Jupyter Notebook you have a few options whenever this happens: For example, let us imagine you want to perform a mean operation using NumPy. You forgot which parameters you can use with this funciton and you need some quick help to remind you:\n",
    "\n",
    "[ 1 ] Whenever you do not know what a function does or you want to know more about the parameters you can use, write ``np.mean?``.\n",
    "\n",
    "[ 2 ] Another option is to use ``help(np.mean)`` \n",
    "\n",
    "[ 3 ] If you do ``np.mean()`` <kbd>Shift</kbd> + <kbd>Tab</kbd>, you will get some information on the function you want. "
   ]
  },
  {
   "cell_type": "markdown",
   "metadata": {},
   "source": [
    "## Learn Markdown\n",
    "\n",
    "As you have already realized, you can have cells with code or also with Markdown. It is a simple language that allows you to write HTML in an easier way. It also allows you to include mathematical equations by using latex, for example: $x = \\sum_{i=0}e^{x}$\n",
    "\n",
    "If you are interested in learning Markdown, have a look at their [guide-documentation](https://markdown-guide.readthedocs.io/en/latest/index.html). Jupyter Notebook also has some [documentation](https://jupyter-notebook.readthedocs.io/en/stable/examples/Notebook/Working%20With%20Markdown%20Cells.html) on how to use the Markdown cells. "
   ]
  },
  {
   "cell_type": "markdown",
   "metadata": {},
   "source": [
    "## Simple python data structures\n",
    "\n",
    "In this chapter we will mainly focus on pandas, bokeh and holoviews packages. However, we will be using a basic library, [NumPy](https://numpy.org). But before we give a brief introduction to these libraries, we will first learn some basic data structures from Python that we will be using during the entire chapter. "
   ]
  },
  {
   "cell_type": "markdown",
   "metadata": {},
   "source": [
    "### Lists\n",
    "\n",
    "Lists are a collection which can be ordered and changable. It allows duplicates in its members. "
   ]
  },
  {
   "cell_type": "code",
   "execution_count": 1,
   "metadata": {
    "scrolled": true
   },
   "outputs": [
    {
     "data": {
      "text/plain": [
       "[0, 1, 2, 3]"
      ]
     },
     "execution_count": 1,
     "metadata": {},
     "output_type": "execute_result"
    }
   ],
   "source": [
    "# A List of integers\n",
    "my_list = [0,1,2,3]\n",
    "my_list"
   ]
  },
  {
   "cell_type": "code",
   "execution_count": 2,
   "metadata": {},
   "outputs": [
    {
     "data": {
      "text/plain": [
       "['a', 'b', 'c', 'abc']"
      ]
     },
     "execution_count": 2,
     "metadata": {},
     "output_type": "execute_result"
    }
   ],
   "source": [
    "# A list of strings\n",
    "list_strings = ['a', 'b', 'c', 'abc']\n",
    "list_strings"
   ]
  },
  {
   "cell_type": "code",
   "execution_count": 3,
   "metadata": {},
   "outputs": [
    {
     "name": "stdout",
     "output_type": "stream",
     "text": [
      "First value from my_list:  0\n",
      "Last value from list_strings:  abc\n",
      "First and second values from my_list:  [1, 2]\n"
     ]
    }
   ],
   "source": [
    "# Accessing items in a list\n",
    "print('First value from my_list: ', my_list[0])\n",
    "print('Last value from list_strings: ', list_strings[-1])\n",
    "print('First and second values from my_list: ', my_list[1:3])"
   ]
  },
  {
   "cell_type": "markdown",
   "metadata": {},
   "source": [
    "Note that when indexing a list, the last element is not taken into account: $[0,1,2,...,len(n)-1]$"
   ]
  },
  {
   "cell_type": "code",
   "execution_count": 4,
   "metadata": {},
   "outputs": [
    {
     "data": {
      "text/plain": [
       "[[1, 2, 3, 4, 5], ['a', 'b', 'c', 'd', 'e']]"
      ]
     },
     "execution_count": 4,
     "metadata": {},
     "output_type": "execute_result"
    }
   ],
   "source": [
    "# List of lists\n",
    "list_of_lists = [[1,2,3,4,5], ['a','b','c','d','e']]\n",
    "list_of_lists"
   ]
  },
  {
   "cell_type": "code",
   "execution_count": 5,
   "metadata": {},
   "outputs": [
    {
     "name": "stdout",
     "output_type": "stream",
     "text": [
      "sum integers:  1\n",
      "sum strings:  ab\n",
      "multiply:  2\n",
      "Divide:  0.3333333333333333\n"
     ]
    }
   ],
   "source": [
    "# Basic operations you can do with list indexes\n",
    "print('sum integers: ', my_list[0]+my_list[1])\n",
    "print('sum strings: ', list_strings[0]+list_strings[1])\n",
    "print('multiply: ', my_list[1]*my_list[2])\n",
    "print('Divide: ', my_list[1]/my_list[3])"
   ]
  },
  {
   "cell_type": "markdown",
   "metadata": {},
   "source": [
    "But be careful, operations between lists will result in either joining lists or also in increasing its length."
   ]
  },
  {
   "cell_type": "code",
   "execution_count": 6,
   "metadata": {},
   "outputs": [
    {
     "name": "stdout",
     "output_type": "stream",
     "text": [
      "sum of lists (all integers):  [0, 1, 2, 3, 0, 1, 2, 3]\n",
      "sum of lists (integers and strings):  [0, 1, 2, 3, 'a', 'b', 'c', 'abc']\n",
      "multiplication of list and an integer:  [0, 1, 2, 3, 0, 1, 2, 3, 0, 1, 2, 3]\n"
     ]
    }
   ],
   "source": [
    "print('sum of lists (all integers): ', my_list+my_list)\n",
    "print('sum of lists (integers and strings): ', my_list+list_strings)\n",
    "print('multiplication of list and an integer: ', my_list*3)"
   ]
  },
  {
   "cell_type": "markdown",
   "metadata": {},
   "source": [
    "The following lines are examples of built-in methods you can use on lists."
   ]
  },
  {
   "cell_type": "code",
   "execution_count": 7,
   "metadata": {},
   "outputs": [
    {
     "name": "stdout",
     "output_type": "stream",
     "text": [
      "Append: \n",
      "['a', 'b', 'c', 'abc', [0, 1, 2, 3]]\n",
      "Count: \n",
      "1\n",
      "Sort: \n",
      "[1, 2, 3, 4, 6, 7, 8, 8, 9]\n"
     ]
    }
   ],
   "source": [
    "print('Append: ')\n",
    "list_strings.append(my_list) # It will append my_list at the end of list_strings\n",
    "print(list_strings)\n",
    "\n",
    "print('Count: ')\n",
    "my_other_list = [1,1,1,1,1,1,2,2,3,3]\n",
    "print(my_list.count(1)) # Number of times the number \"1\" appears (in this case)\n",
    "\n",
    "print('Sort: ')\n",
    "not_ordered_list = [4,8,9,1,2,6,7,8,3]\n",
    "not_ordered_list.sort()\n",
    "print(not_ordered_list) # It will by default order in increasing order"
   ]
  },
  {
   "cell_type": "markdown",
   "metadata": {},
   "source": [
    "Be aware of the following when assigning new variables...\n",
    "\n",
    "We first initialize ``a`` as a list and then we want ``b`` to be initialized in the same way."
   ]
  },
  {
   "cell_type": "code",
   "execution_count": 11,
   "metadata": {},
   "outputs": [],
   "source": [
    "a = [1,2,3]\n",
    "b = a"
   ]
  },
  {
   "cell_type": "code",
   "execution_count": 14,
   "metadata": {},
   "outputs": [
    {
     "name": "stdout",
     "output_type": "stream",
     "text": [
      "[1, 2, 3]\n",
      "[1, 2, 3]\n"
     ]
    }
   ],
   "source": [
    "print(a)\n",
    "print(b)"
   ]
  },
  {
   "cell_type": "markdown",
   "metadata": {},
   "source": [
    "Now, we want to change ``a`` only by appending an extra value to the end of the list."
   ]
  },
  {
   "cell_type": "code",
   "execution_count": 15,
   "metadata": {},
   "outputs": [],
   "source": [
    "a.append(4)"
   ]
  },
  {
   "cell_type": "markdown",
   "metadata": {},
   "source": [
    "However, as a result, ``b`` also changed!"
   ]
  },
  {
   "cell_type": "code",
   "execution_count": 16,
   "metadata": {},
   "outputs": [
    {
     "name": "stdout",
     "output_type": "stream",
     "text": [
      "[1, 2, 3, 4]\n",
      "[1, 2, 3, 4]\n"
     ]
    }
   ],
   "source": [
    "print(a)\n",
    "print(b)"
   ]
  },
  {
   "cell_type": "markdown",
   "metadata": {},
   "source": [
    "How do we solve this? Using the ``copy()`` built-in function."
   ]
  },
  {
   "cell_type": "code",
   "execution_count": 20,
   "metadata": {},
   "outputs": [],
   "source": [
    "a = [1,2,3]\n",
    "b = a.copy()"
   ]
  },
  {
   "cell_type": "code",
   "execution_count": 21,
   "metadata": {},
   "outputs": [],
   "source": [
    "a.append(4)"
   ]
  },
  {
   "cell_type": "code",
   "execution_count": 22,
   "metadata": {},
   "outputs": [
    {
     "name": "stdout",
     "output_type": "stream",
     "text": [
      "[1, 2, 3, 4]\n",
      "[1, 2, 3]\n"
     ]
    }
   ],
   "source": [
    "print(a)\n",
    "print(b)"
   ]
  },
  {
   "cell_type": "markdown",
   "metadata": {},
   "source": [
    "### Dictionaries\n",
    "\n",
    "A Dictionary is a collection which is unordered, changable and can be indexed. As you will see, a dictionary is written using: \n",
    "\n",
    "``dictionary = {key1: values1, key2: values2, ...}``. "
   ]
  },
  {
   "cell_type": "code",
   "execution_count": 29,
   "metadata": {},
   "outputs": [
    {
     "data": {
      "text/plain": [
       "{'A': [1, 2, 3], 'B': [4, 5, 6], 'C': [7, 8, 9]}"
      ]
     },
     "execution_count": 29,
     "metadata": {},
     "output_type": "execute_result"
    }
   ],
   "source": [
    "# A Dictionary\n",
    "my_dictionary = {'A': [1,2,3], 'B': [4,5,6], 'C': [7,8,9]}\n",
    "my_dictionary"
   ]
  },
  {
   "cell_type": "code",
   "execution_count": 30,
   "metadata": {},
   "outputs": [
    {
     "data": {
      "text/plain": [
       "dict_keys(['A', 'B', 'C'])"
      ]
     },
     "execution_count": 30,
     "metadata": {},
     "output_type": "execute_result"
    }
   ],
   "source": [
    "# Which are the keys? \n",
    "my_dictionary.keys()"
   ]
  },
  {
   "cell_type": "code",
   "execution_count": 31,
   "metadata": {
    "scrolled": true
   },
   "outputs": [
    {
     "data": {
      "text/plain": [
       "dict_values([[1, 2, 3], [4, 5, 6], [7, 8, 9]])"
      ]
     },
     "execution_count": 31,
     "metadata": {},
     "output_type": "execute_result"
    }
   ],
   "source": [
    "# Which are the values? \n",
    "my_dictionary.values()"
   ]
  },
  {
   "cell_type": "markdown",
   "metadata": {},
   "source": [
    "Accessing items in a dictionary is done using the keys, not the values. \n",
    "\n",
    "This will give you an error:"
   ]
  },
  {
   "cell_type": "code",
   "execution_count": 37,
   "metadata": {},
   "outputs": [
    {
     "ename": "KeyError",
     "evalue": "0",
     "output_type": "error",
     "traceback": [
      "\u001b[0;31m---------------------------------------------------------------------------\u001b[0m",
      "\u001b[0;31mKeyError\u001b[0m                                  Traceback (most recent call last)",
      "Input \u001b[0;32mIn [37]\u001b[0m, in \u001b[0;36m<cell line: 1>\u001b[0;34m()\u001b[0m\n\u001b[0;32m----> 1\u001b[0m \u001b[43mmy_dictionary\u001b[49m\u001b[43m[\u001b[49m\u001b[38;5;241;43m0\u001b[39;49m\u001b[43m]\u001b[49m\n",
      "\u001b[0;31mKeyError\u001b[0m: 0"
     ]
    }
   ],
   "source": [
    "my_dictionary[0]"
   ]
  },
  {
   "cell_type": "markdown",
   "metadata": {},
   "source": [
    "This will not!"
   ]
  },
  {
   "cell_type": "code",
   "execution_count": 38,
   "metadata": {},
   "outputs": [
    {
     "data": {
      "text/plain": [
       "[1, 2, 3]"
      ]
     },
     "execution_count": 38,
     "metadata": {},
     "output_type": "execute_result"
    }
   ],
   "source": [
    "# Accesing items in a dictionary \n",
    "my_dictionary['A']"
   ]
  },
  {
   "cell_type": "markdown",
   "metadata": {},
   "source": [
    "# NumPy\n",
    "\n",
    "NumPy is an open-source, fast and versatile Python library for linear algebra and array computing. Allows N-Dimensional arrays and offers many mathematical functions, random number generators, Fourier transforms and much more. The core of NumPy is well-optimized C code which makes it a fast library but with the flexibility that the Python language can offer. \n",
    "\n",
    "The only thing you need to use NumPy is Python itself. We will not go through all the NumPy documentation but we will try to cover some basics that will be needed later in the chapter. For a [quick start tutorial](https://numpy.org/doc/stable/user/quickstart.html), visit their webpage. \n",
    "\n",
    "Firts, we need to import NumPy and as a convention, it is imported with the name ``np``. So everytime you want to call a NumPy function, you need to add the ``np.`` at the beginning. "
   ]
  },
  {
   "cell_type": "code",
   "execution_count": 39,
   "metadata": {},
   "outputs": [],
   "source": [
    "import numpy as np"
   ]
  },
  {
   "cell_type": "markdown",
   "metadata": {},
   "source": [
    "We will start by their main object, an ``np.ndarray`` . It is usually called, an array. "
   ]
  },
  {
   "cell_type": "code",
   "execution_count": 13,
   "metadata": {},
   "outputs": [
    {
     "data": {
      "text/plain": [
       "array([0, 1, 2, 3])"
      ]
     },
     "execution_count": 13,
     "metadata": {},
     "output_type": "execute_result"
    }
   ],
   "source": [
    "# Initialize an ndarray\n",
    "\n",
    "my_array = np.array([0,1,2,3])\n",
    "my_array"
   ]
  },
  {
   "cell_type": "code",
   "execution_count": 14,
   "metadata": {},
   "outputs": [
    {
     "data": {
      "text/plain": [
       "numpy.ndarray"
      ]
     },
     "execution_count": 14,
     "metadata": {},
     "output_type": "execute_result"
    }
   ],
   "source": [
    "type(my_array)"
   ]
  },
  {
   "cell_type": "markdown",
   "metadata": {},
   "source": [
    "There are also many other ways to create a NumPy array, like the following examples"
   ]
  },
  {
   "cell_type": "code",
   "execution_count": 15,
   "metadata": {},
   "outputs": [
    {
     "name": "stdout",
     "output_type": "stream",
     "text": [
      "[0. 0. 0. 0. 0. 0. 0. 0. 0. 0.]\n"
     ]
    },
    {
     "data": {
      "text/plain": [
       "numpy.ndarray"
      ]
     },
     "execution_count": 15,
     "metadata": {},
     "output_type": "execute_result"
    }
   ],
   "source": [
    "# Creating an array of zeros\n",
    "print(np.zeros(10))\n",
    "type(np.zeros(10))"
   ]
  },
  {
   "cell_type": "code",
   "execution_count": 16,
   "metadata": {},
   "outputs": [
    {
     "name": "stdout",
     "output_type": "stream",
     "text": [
      "[[1. 1.]\n",
      " [1. 1.]\n",
      " [1. 1.]\n",
      " [1. 1.]\n",
      " [1. 1.]\n",
      " [1. 1.]\n",
      " [1. 1.]\n",
      " [1. 1.]\n",
      " [1. 1.]\n",
      " [1. 1.]]\n"
     ]
    },
    {
     "data": {
      "text/plain": [
       "numpy.ndarray"
      ]
     },
     "execution_count": 16,
     "metadata": {},
     "output_type": "execute_result"
    }
   ],
   "source": [
    "# You can also make a 2D array\n",
    "print(np.ones((10,2)))\n",
    "type(np.ones((10,2)))"
   ]
  },
  {
   "cell_type": "code",
   "execution_count": 17,
   "metadata": {},
   "outputs": [
    {
     "data": {
      "text/plain": [
       "array([0, 1, 2, 3, 4, 5, 6, 7, 8, 9])"
      ]
     },
     "execution_count": 17,
     "metadata": {},
     "output_type": "execute_result"
    }
   ],
   "source": [
    "# Using a range of numbers: start, stop, step\n",
    "np.arange(0,10,1)  "
   ]
  },
  {
   "cell_type": "code",
   "execution_count": 18,
   "metadata": {},
   "outputs": [
    {
     "data": {
      "text/plain": [
       "array([ 0.        ,  0.52631579,  1.05263158,  1.57894737,  2.10526316,\n",
       "        2.63157895,  3.15789474,  3.68421053,  4.21052632,  4.73684211,\n",
       "        5.26315789,  5.78947368,  6.31578947,  6.84210526,  7.36842105,\n",
       "        7.89473684,  8.42105263,  8.94736842,  9.47368421, 10.        ])"
      ]
     },
     "execution_count": 18,
     "metadata": {},
     "output_type": "execute_result"
    }
   ],
   "source": [
    "# Similar to the arange but we have now start, stop, number of values\n",
    "np.linspace(0,10,20)  "
   ]
  },
  {
   "cell_type": "code",
   "execution_count": 19,
   "metadata": {},
   "outputs": [
    {
     "data": {
      "text/plain": [
       "array([2.13207051, 6.4468246 , 6.81169936, 9.74864824, 5.95232651,\n",
       "       1.98661484, 8.80619951, 5.46108251, 5.56830224, 4.45300987,\n",
       "       1.60295405, 6.6508337 , 9.62612375, 8.32155358, 7.47380686,\n",
       "       9.93669921, 9.13702103, 0.84916746, 4.27571208, 4.47349039,\n",
       "       5.90975777, 6.06858219, 2.40921661, 4.51062653, 5.30210934,\n",
       "       9.32939017, 2.88065237, 7.28339162, 5.26486137, 6.89345838,\n",
       "       7.05762889, 8.03677579, 7.70126236, 1.90602862, 9.88157963,\n",
       "       2.51946058, 4.78416315, 1.81672269, 7.95103516, 9.37847316,\n",
       "       8.24435349, 0.74062035, 6.0201711 , 0.40949962, 7.60367917,\n",
       "       1.56419879, 1.50085499, 4.88364349, 9.35218665, 6.98113182,\n",
       "       6.07138375, 5.86000755, 9.49402475, 3.99690872, 1.4829786 ,\n",
       "       5.94578423, 6.59772968, 0.94802364, 4.18561906, 9.3265988 ])"
      ]
     },
     "execution_count": 19,
     "metadata": {},
     "output_type": "execute_result"
    }
   ],
   "source": [
    "# Create an array taking samples from a uniform distribution\n",
    "np.random.uniform(0,10,60) # From 0 to 10, take 60 samples"
   ]
  },
  {
   "cell_type": "code",
   "execution_count": 20,
   "metadata": {},
   "outputs": [
    {
     "data": {
      "text/plain": [
       "array([0, 7, 7, 3, 9, 4, 8, 7, 2, 3, 8, 1, 4, 2, 7, 9, 3, 2, 2, 1, 7, 6,\n",
       "       7, 7, 1, 3, 2, 1, 3, 9, 7, 1, 4, 1, 8, 6, 8, 4, 0, 7, 2, 0, 1, 8,\n",
       "       2, 8, 9, 7, 3, 4, 0, 6, 7, 5, 4, 2, 5, 6, 1, 1])"
      ]
     },
     "execution_count": 20,
     "metadata": {},
     "output_type": "execute_result"
    }
   ],
   "source": [
    "# Create an array taking random intefers from a discrete uniform distribution\n",
    "np.random.randint(0,10,60) # From 0 to 10, take 60 samples"
   ]
  },
  {
   "cell_type": "markdown",
   "metadata": {},
   "source": [
    "You can also perform some basic operations, like for example:"
   ]
  },
  {
   "cell_type": "code",
   "execution_count": 21,
   "metadata": {},
   "outputs": [
    {
     "name": "stdout",
     "output_type": "stream",
     "text": [
      "My 2D Array: \n",
      "[[ 0  1  2  3]\n",
      " [ 4  5  6  7]\n",
      " [ 8  9 10 11]]\n",
      "Mean:  5.5\n",
      "Mean only using the columns :  [4. 5. 6. 7.]\n",
      "Mean only using the rows :  [1.5 5.5 9.5]\n",
      "Sine:  [[ 0.          0.84147098  0.90929743  0.14112001]\n",
      " [-0.7568025  -0.95892427 -0.2794155   0.6569866 ]\n",
      " [ 0.98935825  0.41211849 -0.54402111 -0.99999021]]\n",
      "Cosine:  [[ 1.          0.54030231 -0.41614684 -0.9899925 ]\n",
      " [-0.65364362  0.28366219  0.96017029  0.75390225]\n",
      " [-0.14550003 -0.91113026 -0.83907153  0.0044257 ]]\n"
     ]
    }
   ],
   "source": [
    "my_2d_array = np.array([[0,1,2,3],[4,5,6,7],[8,9,10,11]])\n",
    "\n",
    "print('My 2D Array: ')\n",
    "print(my_2d_array)\n",
    "print('Mean: ', np.mean(my_2d_array))\n",
    "print('Mean only using the columns : ', np.mean(my_2d_array, axis=0))\n",
    "print('Mean only using the rows : ', np.mean(my_2d_array, axis=1))\n",
    "print('Sine: ', np.sin(my_2d_array))\n",
    "print('Cosine: ', np.cos(my_2d_array))"
   ]
  },
  {
   "cell_type": "markdown",
   "metadata": {},
   "source": [
    "Accessing elemtns in a NumPy array is using indexes which start with 0."
   ]
  },
  {
   "cell_type": "code",
   "execution_count": 22,
   "metadata": {},
   "outputs": [
    {
     "data": {
      "text/plain": [
       "array([0, 1, 2, 3])"
      ]
     },
     "execution_count": 22,
     "metadata": {},
     "output_type": "execute_result"
    }
   ],
   "source": [
    "# Since it is a 2d array, this will access the first row\n",
    "my_2d_array[0]"
   ]
  },
  {
   "cell_type": "code",
   "execution_count": 23,
   "metadata": {},
   "outputs": [
    {
     "data": {
      "text/plain": [
       "array([0, 4, 8])"
      ]
     },
     "execution_count": 23,
     "metadata": {},
     "output_type": "execute_result"
    }
   ],
   "source": [
    "# Since it is a 2d array, this will access the first column\n",
    "my_2d_array[:,0]"
   ]
  },
  {
   "cell_type": "code",
   "execution_count": 24,
   "metadata": {},
   "outputs": [
    {
     "data": {
      "text/plain": [
       "array([[1, 2],\n",
       "       [5, 6]])"
      ]
     },
     "execution_count": 24,
     "metadata": {},
     "output_type": "execute_result"
    }
   ],
   "source": [
    "# You can also access several values at the same time\n",
    "my_2d_array[:2, 1:3]"
   ]
  },
  {
   "cell_type": "markdown",
   "metadata": {},
   "source": [
    "## Create a Python Function\n",
    "\n",
    "The last thing you will need to know in order to follow this chapter is how to define a function in Python. \n",
    "\n",
    "A function is a block of code which only runs when it is called. You can pass data, known as parameters, into a function and it returns the result to the applied operation. For example, if you want to calculate the following simple operation several times in your code: $ \\frac{x+y}{5} $ , it is simple to create a function where you pass the x and y parameters and then returns the result (instead of  having to compute this operation every time you want to use it)\n",
    "\n",
    "The typical syntax and structure is the following:"
   ]
  },
  {
   "cell_type": "code",
   "execution_count": 40,
   "metadata": {},
   "outputs": [
    {
     "data": {
      "text/plain": [
       "array([ 1.,  3.,  5.,  7.,  9., 11., 13.])"
      ]
     },
     "execution_count": 40,
     "metadata": {},
     "output_type": "execute_result"
    }
   ],
   "source": [
    "# Define a function\n",
    "def my_function(input1, input2):\n",
    "    '''add two values and divide by 5.'''\n",
    "    return (input1 + input2)/5\n",
    "\n",
    "# Create 2 arrays to use with the function\n",
    "my_array1 = np.array([0,5,10,15,20,25,30])\n",
    "my_array2 = np.array([5,10,15,20,25,30,35])\n",
    "\n",
    "# Apply the function\n",
    "my_function(my_array1, my_array2)"
   ]
  },
  {
   "cell_type": "code",
   "execution_count": 42,
   "metadata": {},
   "outputs": [
    {
     "name": "stdout",
     "output_type": "stream",
     "text": [
      "Help on function my_function in module __main__:\n",
      "\n",
      "my_function(input1, input2)\n",
      "    add two values and divide by 5.\n",
      "\n"
     ]
    }
   ],
   "source": [
    "help(my_function)"
   ]
  },
  {
   "cell_type": "markdown",
   "metadata": {},
   "source": [
    "We will not be using many functions in this session but they are mentioned in the Pandas section. \n",
    "(If you want to learn more about how to create a function with Python and all the great advantages they offer, visit the [link](https://docs.python.org/2.0/ref/function.html)."
   ]
  },
  {
   "cell_type": "markdown",
   "metadata": {},
   "source": [
    "Another important function you should know about is the ``lambda`` function. It is a small anonymous function which can take any number of arguments but, it can only have one expression. In order to create a lambda function, you will need the following structure:\n",
    "\n",
    "``lambda arguments : expression`` . \n",
    "\n",
    "(To know more about these functions, visit the [link](https://www.w3schools.com/python/python_lambda.asp))"
   ]
  },
  {
   "cell_type": "code",
   "execution_count": 26,
   "metadata": {},
   "outputs": [
    {
     "data": {
      "text/plain": [
       "4"
      ]
     },
     "execution_count": 26,
     "metadata": {},
     "output_type": "execute_result"
    }
   ],
   "source": [
    "# Define the lambda function\n",
    "my_lambda = lambda x : x + 1\n",
    "\n",
    "# Pass the function \n",
    "my_lambda(3)"
   ]
  },
  {
   "cell_type": "code",
   "execution_count": 27,
   "metadata": {},
   "outputs": [
    {
     "data": {
      "text/plain": [
       "300.0"
      ]
     },
     "execution_count": 27,
     "metadata": {},
     "output_type": "execute_result"
    }
   ],
   "source": [
    "# Define the lambda function\n",
    "my_lambda = lambda x,y : (x*y)/10\n",
    "\n",
    "# Pass the function \n",
    "my_lambda(50,60)"
   ]
  },
  {
   "cell_type": "markdown",
   "metadata": {},
   "source": [
    "These are some vary basic notions on how to define your data using python dictionaries and lists, how to use NumPy arrays and functions and what are functions like in Python. With these basics you should be able to better understand the content of the upcoming notebooks. "
   ]
  },
  {
   "cell_type": "code",
   "execution_count": null,
   "metadata": {},
   "outputs": [],
   "source": []
  }
 ],
 "metadata": {
  "kernelspec": {
   "display_name": "Python 3 (ipykernel)",
   "language": "python",
   "name": "python3"
  },
  "language_info": {
   "codemirror_mode": {
    "name": "ipython",
    "version": 3
   },
   "file_extension": ".py",
   "mimetype": "text/x-python",
   "name": "python",
   "nbconvert_exporter": "python",
   "pygments_lexer": "ipython3",
   "version": "3.10.4"
  }
 },
 "nbformat": 4,
 "nbformat_minor": 4
}
